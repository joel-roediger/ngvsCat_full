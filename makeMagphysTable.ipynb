{
 "cells": [
  {
   "cell_type": "code",
   "execution_count": 1,
   "metadata": {
    "collapsed": true
   },
   "outputs": [],
   "source": [
    "import numpy as np\n",
    "import pandas as pd"
   ]
  },
  {
   "cell_type": "code",
   "execution_count": 2,
   "metadata": {
    "collapsed": true
   },
   "outputs": [],
   "source": [
    "# READ GALAXY ID'S, MAGNITUDES AND MAGNITUDE ERRORS FROM FILE\n",
    "\n",
    "# mags and errors\n",
    "f = 'scratch.txt'\n",
    "data = np.genfromtxt(f)\n",
    "\n",
    "# id's\n",
    "ngvsId = np.genfromtxt(f, dtype = 'S27', usecols = 0)"
   ]
  },
  {
   "cell_type": "code",
   "execution_count": 3,
   "metadata": {
    "collapsed": true
   },
   "outputs": [],
   "source": [
    "# READ FOREGROUND DUST REDDENINGS FROM ORIGINAL CATALOG FILE\n",
    "\n",
    "df_ebv = pd.read_csv('finalCat_fixColNames.csv', index_col = 0, usecols = [0, 31])"
   ]
  },
  {
   "cell_type": "code",
   "execution_count": 4,
   "metadata": {
    "collapsed": true
   },
   "outputs": [],
   "source": [
    "# GENERATE HARMONIZED TABLES OF MAGNITUDES AND MAGNITUDE ERRORS (PREFER COG VALUES OVER GALFIT VALUES)\n",
    "\n",
    "mags = np.zeros([data.shape[0], 5]) - 100.\n",
    "magErrs = np.zeros([data.shape[0], 5]) - 100.\n",
    "\n",
    "for i in range(data.shape[0]):\n",
    "    if data[i, 1] > 0.:\n",
    "        mags[i, :] = data[i, 1:10:2]\n",
    "        magErrs[i, :] = data[i, 2:11:2]\n",
    "    elif data[i, 11] > 0.:\n",
    "        mags[i, :] = data[i, 11::2]\n",
    "        magErrs[i, :] = data[i, 12::2]\n",
    "        "
   ]
  },
  {
   "cell_type": "code",
   "execution_count": 5,
   "metadata": {
    "collapsed": true
   },
   "outputs": [],
   "source": [
    "# CONVERT MAGNITUDES AND THEIR ERRORS INTO FLUXES (AND ERRORS), AND OUTPUT TO FILE\n",
    "\n",
    "f = open('observations.txt', 'w')\n",
    "\n",
    "bands = ['u', 'g', 'r', 'i', 'z']\n",
    "\n",
    "line = '# id' + (26 * ' ') + 'z  '\n",
    "for i in range(5):\n",
    "    line += '   flux_' + bands[i] + '      fluxErr_' + bands[i]\n",
    "    \n",
    "f.write(line + '\\n')\n",
    "\n",
    "c = [4.594, 3.560, 2.464, 1.813, 1.221]\n",
    "\n",
    "fluxes = -100. * np.ones([data.shape[0], 5])\n",
    "fluxErrs = -100. * np.ones([data.shape[0], 5])\n",
    "\n",
    "for i in range(data.shape[0]):\n",
    "    ID = str(ngvsId[i], 'utf-8')\n",
    "    ebv = df_ebv.loc[str(ngvsId[i], 'utf-8'), 'e(B-V)']\n",
    "    \n",
    "    line = ID + '   0.0'\n",
    "    for j in range(5):\n",
    "        if mags[i, j] > 0.:\n",
    "            fluxes[i, j] = 10.0 ** (23. - (mags[i, j] - (c[j] * ebv) - 31.09 + 48.6) / 2.5)\n",
    "            fluxErrs[i, j] = magErrs[i, j] * fluxes[i, j] / 1.0857\n",
    "            \n",
    "        line += '   %9.3e   %9.3e' % (fluxes[i, j], fluxErrs[i, j])\n",
    "        \n",
    "    f.write(line + '\\n')\n",
    "    \n",
    "f.close()"
   ]
  },
  {
   "cell_type": "code",
   "execution_count": null,
   "metadata": {
    "collapsed": true
   },
   "outputs": [],
   "source": []
  }
 ],
 "metadata": {
  "kernelspec": {
   "display_name": "Python 3",
   "language": "python",
   "name": "python3"
  },
  "language_info": {
   "codemirror_mode": {
    "name": "ipython",
    "version": 3
   },
   "file_extension": ".py",
   "mimetype": "text/x-python",
   "name": "python",
   "nbconvert_exporter": "python",
   "pygments_lexer": "ipython3",
   "version": "3.6.1"
  }
 },
 "nbformat": 4,
 "nbformat_minor": 2
}
