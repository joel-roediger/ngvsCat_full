{
 "cells": [
  {
   "cell_type": "code",
   "execution_count": 1,
   "metadata": {},
   "outputs": [
    {
     "name": "stderr",
     "output_type": "stream",
     "text": [
      "/Users/roedigerj/anaconda/envs/astro/lib/python3.6/site-packages/statsmodels/compat/pandas.py:56: FutureWarning: The pandas.core.datetools module is deprecated and will be removed in a future version. Please use the pandas.tseries module instead.\n",
      "  from pandas.core import datetools\n"
     ]
    }
   ],
   "source": [
    "#import os\n",
    "#import sys\n",
    "import numpy as np\n",
    "\n",
    "#from astropy.io import fits\n",
    "\n",
    "#import photutils\n",
    "#from photutils import EllipticalAperture\n",
    "\n",
    "#import matplotlib.pyplot as plt\n",
    "#%matplotlib inline\n",
    "\n",
    "# use nicer set of plot parameters (from astropy www)\n",
    "#from astropy.visualization import astropy_mpl_style\n",
    "#plt.style.use(astropy_mpl_style)\n",
    "\n",
    "import statsmodels.api as sm\n",
    "\n",
    "from scipy.interpolate import interp1d"
   ]
  },
  {
   "cell_type": "code",
   "execution_count": 2,
   "metadata": {
    "collapsed": true
   },
   "outputs": [],
   "source": [
    "# ISSUES\n",
    "#  applying trend cast wrt CoG magnitudes to Galfit magnitudes"
   ]
  },
  {
   "cell_type": "code",
   "execution_count": 3,
   "metadata": {
    "collapsed": true
   },
   "outputs": [],
   "source": [
    "# READ TOTAL ERRORS FOR GALAXIES HAVING DIRECT ERROR ESTIMATES\n",
    "\n",
    "f = open('skyErrorEstimates_stdDev_wSkyInPoissonTermAndCalErr.txt', 'r')\n",
    "lines = f.readlines()\n",
    "f.close()\n",
    "\n",
    "ngvsIDs_train = np.array([line.strip().split()[0] for line in lines[1:]])\n",
    "bands_train = np.array([line.strip().split()[1] for line in lines[1:]])\n",
    "errs_train = np.array([float(line.strip().split()[10]) for line in lines[1:]])"
   ]
  },
  {
   "cell_type": "code",
   "execution_count": 5,
   "metadata": {},
   "outputs": [],
   "source": [
    "# READ GALFIT MAGNITUDES FOR EVERY GALAXY FROM FULL SURVEY\n",
    "\n",
    "f = open('mags_ngvsFull_err=deltaMag.txt', 'r')\n",
    "lines = f.readlines()\n",
    "f.close()\n",
    "\n",
    "ngvsIDs_full = np.array([line.strip().split()[0] for line in lines])\n",
    "\n",
    "mags_full = np.zeros([len(lines), 5])\n",
    "mags_full[:, 0] = [float(line.strip().split()[13]) for line in lines]\n",
    "mags_full[:, 1] = [float(line.strip().split()[11]) for line in lines]\n",
    "mags_full[:, 2] = [float(line.strip().split()[15]) for line in lines]\n",
    "mags_full[:, 3] = [float(line.strip().split()[17]) for line in lines]\n",
    "mags_full[:, 4] = [float(line.strip().split()[19]) for line in lines]"
   ]
  },
  {
   "cell_type": "code",
   "execution_count": null,
   "metadata": {
    "collapsed": true
   },
   "outputs": [],
   "source": [
    "# CREATE SEPERATE ARRAY OF MAGNITUDES FOR TRAINING SET BY CROSS-MATCHING FULL SURVEY WITH PILOT FIELD\n",
    "\n",
    "magsList = []\n",
    "for ngvsID_train, band_train in zip(ngvsIDs_train, bands_train):\n",
    "    mask = (ngvsIDs_full == ngvsID_train)\n",
    "    if np.sum(mask) == 0:\n",
    "        continue\n",
    "        \n",
    "    if band_train == 'U':\n",
    "        magsList.append(mags_full[mask, 0][0])\n",
    "    elif band_train == 'G':\n",
    "        magsList.append(mags_full[mask, 1][0])\n",
    "    elif band_train == 'R':\n",
    "        magsList.append(mags_full[mask, 2][0])\n",
    "    elif band_train == 'I':\n",
    "        magsList.append(mags_full[mask, 3][0])\n",
    "    elif band_train == 'Z':\n",
    "        magsList.append(mags_full[mask, 4][0])\n",
    "        \n",
    "mags_train = np.array(magsList)"
   ]
  },
  {
   "cell_type": "code",
   "execution_count": null,
   "metadata": {},
   "outputs": [],
   "source": []
  },
  {
   "cell_type": "code",
   "execution_count": 10,
   "metadata": {},
   "outputs": [
    {
     "name": "stdout",
     "output_type": "stream",
     "text": [
      "(401, 2)\n",
      "(364, 2)\n",
      "(402, 2)\n",
      "(363, 2)\n",
      "(401, 2)\n",
      "(355, 2)\n",
      "(402, 2)\n",
      "(362, 2)\n",
      "0.0272963599486 -1.6884389597591474 [-0.26175414 -0.22392058  0.33474983 -0.11841323 -0.05688174  0.02078749\n",
      " -0.31294687 -0.16105918 -0.2950589  -0.17412597]\n",
      "(401, 2)\n",
      "(351, 2)\n"
     ]
    }
   ],
   "source": [
    "# ESTIMATE ERRORS IN GALFIT PHOTOMETRY FOR FULL NGVS GALAXY CATALOGUE B/O TRAINING SET (FROM PILOT FIELD)\n",
    "\n",
    "minErr = [0.0283, 0.0141, 0.0141, 0.0141, 0.0224]\n",
    "\n",
    "magErrs_full = -100.0 * np.ones(mags_full.shape)\n",
    "\n",
    "for j, band in enumerate(['U', 'G', 'R', 'I', 'Z']):\n",
    "    \n",
    "    # grab mags and errors for band, and stash in single array (sorted by mag)\n",
    "    selection = (bands_train == band)\n",
    "    data = np.stack([mags_train[selection], errs_train[selection]], axis = 1)\n",
    "    data = data[data[:, 0].argsort()]\n",
    "    print (data.shape)\n",
    "    data = data[data[:, 0] > 0.]\n",
    "    print (data.shape)\n",
    "    \n",
    "    # replace errors lying below value for calibration error in band\n",
    "    mask = (data[:, 1] < minErr[j])\n",
    "    #data[mask, 1] = minErr[j]\n",
    "    \n",
    "    # determine LOWESS trend between selected mags and errors (write to file, omitting repeated values)\n",
    "    lowess = sm.nonparametric.lowess(data[:, 1], data[:, 0], frac = 0.3, it = 3)\n",
    "    f = open('lowess_totErrsVsMags_' + band + '_x=galfit.txt', 'w')\n",
    "    \n",
    "    x, indxs = np.unique(lowess[:, 0], return_index = True)\n",
    "    y = lowess[indxs, 1]\n",
    "    for i in range(lowess.shape[0]):\n",
    "        if i in indxs:\n",
    "            f.write('%8.4f %9.5f\\n' % (lowess[i, 0], lowess[i, 1]))\n",
    "    f.close()\n",
    "    \n",
    "    # interpolate LOWESS solution and predict magnitude errors therefrom\n",
    "    mask = (mags_full[:, j] > 0.)\n",
    "    func = interp1d(x, y, kind = 'cubic', bounds_error = False, fill_value = \"extrapolate\")\n",
    "    magErrs_full[mask, j] = func(mags_full[mask, j])\n",
    "    \n",
    "    # fix erroneous values caused by extrapolation\n",
    "    mask = ((mags_full[:, j] < lowess[0, 0]) & (mags_full[:, j] > 0.))\n",
    "    magErrs_full[mask, j] = lowess[0, 1]\n",
    "    \n",
    "    mask = (mags_full[:, j] > lowess[-1, 0])\n",
    "    magErrs_full[mask, j] = lowess[-1, 1]\n",
    "    \n",
    "    # add scatter to predicted errors\n",
    "    count = 0\n",
    "    for i in range(mags_full.shape[0]):\n",
    "        if mags_full[i, j] < 0.:\n",
    "            continue\n",
    "            \n",
    "        # find 10 closest neighours from pilot field to galaxy in mag-space \n",
    "        idx = np.searchsorted(data[:, 0], mags_full[i, j])\n",
    "        argMin = np.max([idx - 5, 0])\n",
    "        argMax = np.min([argMin + 10, data.shape[0]])\n",
    "        \n",
    "        # find number of neighbours from pilot field lying within X mag of galaxy\n",
    "        mask = (np.abs(data[:, 0] - mags_full[i, j]) <= 0.5)\n",
    "        \n",
    "        # use fixed or adaptive bin to compute standard deviation\n",
    "        if np.sum(mask) < 10:\n",
    "            #scratch = data[argMin:argMax, 1] - lowess[argMin:argMax, 1]\n",
    "            scratch = np.log10(data[argMin:argMax, 1]) - np.log10(lowess[argMin:argMax, 1])\n",
    "            count += 1\n",
    "        else:\n",
    "            #scratch = data[mask, 1] - lowess[mask, 1]\n",
    "            scratch = np.log10(data[mask, 1]) - np.log10(lowess[mask, 1])\n",
    "            \n",
    "        delta = np.random.normal(loc = np.log10(magErrs_full[i, j]), \n",
    "                                 scale = np.std(scratch, ddof = 1, dtype = np.float64))\n",
    "        #magErrs_full[i, j] = delta\n",
    "        magErrs_full[i, j] = 10.0 ** delta\n",
    "        \n",
    "    # replace errors lying below value for calibration error in band\n",
    "    mask = ((magErrs_full[:, j] < minErr[j]) & (mags_full[:, j] > 0.))\n",
    "    magErrs_full[mask, j] = minErr[j]\n",
    "    \n",
    "    mask = ((magErrs_full[:, j] < 10.0 ** (0.2 * (mags_full[:, j] - 30.) + 0.0357)) & \\\n",
    "            (mags_full[:, j] > 0.))\n",
    "    magErrs_full[mask, j] = 10.0 ** (0.2 * (mags_full[mask, j] - 30.) + 0.0357)"
   ]
  },
  {
   "cell_type": "code",
   "execution_count": 12,
   "metadata": {},
   "outputs": [],
   "source": [
    "# WRITE TABLE OF GALFIT MAGNITUDES AND ESTIMATED TOTAL ERRORS TO FILE\n",
    "\n",
    "f = open('mags_galfit_ngvsFull_err=sky+Gxy.txt', 'w')\n",
    "for i in range(mags_full.shape[0]):\n",
    "    string = '%s' % (ngvsIDs_full[i])\n",
    "    for j in range(0, 5):\n",
    "        string += '%12.4f %12.5f' % (mags_full[i, j], magErrs_full[i, j])\n",
    "        \n",
    "    f.write(string + '\\n')\n",
    "f.close()"
   ]
  },
  {
   "cell_type": "code",
   "execution_count": null,
   "metadata": {
    "collapsed": true
   },
   "outputs": [],
   "source": []
  }
 ],
 "metadata": {
  "kernelspec": {
   "display_name": "Python 3",
   "language": "python",
   "name": "python3"
  },
  "language_info": {
   "codemirror_mode": {
    "name": "ipython",
    "version": 3
   },
   "file_extension": ".py",
   "mimetype": "text/x-python",
   "name": "python",
   "nbconvert_exporter": "python",
   "pygments_lexer": "ipython3",
   "version": "3.6.1"
  }
 },
 "nbformat": 4,
 "nbformat_minor": 2
}
